{
  "nbformat": 4,
  "nbformat_minor": 0,
  "metadata": {
    "colab": {
      "provenance": []
    },
    "kernelspec": {
      "name": "python3",
      "display_name": "Python 3"
    },
    "language_info": {
      "name": "python"
    }
  },
  "cells": [
    {
      "cell_type": "markdown",
      "source": [
        "\n",
        "**CS2IAI Introduction to Artificial Intelligence**\n",
        "\n",
        "Prepaped by Dr. Shereen Fouad\n",
        "\n",
        "**Welcome! In this practical session we will learn about the basic syntax and usage of Python as well as the NumPy library**\n",
        "\n",
        "\n",
        "Read through the notebook to see how python commands are being implemeted. Then answer the exercise questions. Your answers should be added in code cells."
      ],
      "metadata": {
        "id": "NrqIIGi7WmkC"
      }
    },
    {
      "cell_type": "code",
      "source": [],
      "metadata": {
        "id": "D7AymCOhF-jm"
      },
      "execution_count": null,
      "outputs": []
    },
    {
      "cell_type": "markdown",
      "source": [
        "# **Notebook**\n",
        "\n",
        "Notebooks are a great way to mix executable code with rich contents (HTML, images, equations written in LaTeX). Colab allows to run notebooks on the cloud for free without any prior installation, while leveraging the power of GPUs.\n",
        "\n",
        "The document that you are reading is not a static web page, but an interactive environment called a notebook, that lets you write and execute code. Notebooks consist of so-called code cells, blocks of one or more Python instructions. For example, here is a code cell that stores the result of a computation (the number of seconds in a day) in a variable and prints its value:\n"
      ],
      "metadata": {
        "id": "MmLOyeLGfbiX"
      }
    },
    {
      "cell_type": "code",
      "execution_count": null,
      "metadata": {
        "id": "usTZzVG_Wj5R"
      },
      "outputs": [],
      "source": [
        "seconds_in_a_day = 24 * 60 * 60\n",
        "seconds_in_a_day"
      ]
    },
    {
      "cell_type": "markdown",
      "source": [
        "Click on the \"play\" button to execute the cell. You should be able to see the result. Alternatively, you can also execute the cell by pressing Ctrl + Enter if you are on Windows / Linux or Command + Enter if you are on a Mac.\n",
        "\n",
        "Variables that you defined in one cell can later be used in other cells:"
      ],
      "metadata": {
        "id": "vUt2LrgPWke9"
      }
    },
    {
      "cell_type": "code",
      "source": [
        "seconds_in_a_week = 7 * seconds_in_a_day\n",
        "seconds_in_a_week"
      ],
      "metadata": {
        "id": "brsYQ3E4ZLdw"
      },
      "execution_count": null,
      "outputs": []
    },
    {
      "cell_type": "markdown",
      "source": [
        "Note that the order of execution is important. For instance, if we do not run the cell storing seconds_in_a_day beforehand, the above cell will raise an error, as it depends on this variable. To make sure that you run all the cells in the correct order, you can also click on \"Runtime\" in the top-level menu, then \"Run all\"."
      ],
      "metadata": {
        "id": "v0CCt2aZZUvF"
      }
    },
    {
      "cell_type": "markdown",
      "source": [
        "## **Python Basics** (review from lab 1)"
      ],
      "metadata": {
        "id": "Um4k9X-jai1y"
      }
    },
    {
      "cell_type": "markdown",
      "source": [
        "**Arithmetic operations**\n",
        "\n",
        "Python supports the usual arithmetic operators: + (addition), * (multiplication), / (division), ** (power), // (integer division)."
      ],
      "metadata": {
        "id": "c0WHyaSYasrm"
      }
    },
    {
      "cell_type": "markdown",
      "source": [
        "**Numbers**\n",
        "\n",
        "There are two main types of number in Python:\n",
        "1. Floats (or floating point numbers)\n",
        "2. Integers"
      ],
      "metadata": {
        "id": "zMTLkZBFbBwm"
      }
    },
    {
      "cell_type": "code",
      "source": [
        "value = 123.1\n",
        "print(value)\n",
        "value = 10\n",
        "print(value)"
      ],
      "metadata": {
        "id": "ZPz6VFl5bUVM"
      },
      "execution_count": null,
      "outputs": []
    },
    {
      "cell_type": "markdown",
      "source": [
        "**String**\n",
        "\n",
        "They are a way of representing normal human words inside a Python script. Strings start and end with double quotes (\") e.g.,"
      ],
      "metadata": {
        "id": "ofMaYSbvbcks"
      }
    },
    {
      "cell_type": "code",
      "source": [
        "# Strings\n",
        "data = 'hello world'\n",
        "print(data[0])\n",
        "print(len(data))\n",
        "print(data)"
      ],
      "metadata": {
        "id": "A_tpahXBb1Jc"
      },
      "execution_count": null,
      "outputs": []
    },
    {
      "cell_type": "markdown",
      "source": [
        "**Boolean**\n",
        "True or False"
      ],
      "metadata": {
        "id": "ncRbNfHEcQff"
      }
    },
    {
      "cell_type": "code",
      "source": [
        "# Boolean\n",
        "a = True\n",
        "b = False\n",
        "print(a, b)"
      ],
      "metadata": {
        "id": "oEJfz4abcSHh"
      },
      "execution_count": null,
      "outputs": []
    },
    {
      "cell_type": "markdown",
      "source": [
        "**Flow Control**\n",
        "\n",
        "Conditionals are a way to execute code depending on whether a condition is True or False.\n",
        "There are **three** main types of flow control that you need to learn: **If-Then-Else** conditions, **For-Loops** and **While-Loops**.\n",
        "\n",
        "If-Then-Else Condition Example"
      ],
      "metadata": {
        "id": "-B-C16z5covC"
      }
    },
    {
      "cell_type": "code",
      "source": [
        "value = 99\n",
        "if value >= 99:\n",
        "\tprint('That is fast')\n",
        "elif value > 200:\n",
        "\tprint('That is too fast')\n",
        "else:\n",
        "\tprint('That that is safe')"
      ],
      "metadata": {
        "id": "ku1ErssecvWx"
      },
      "execution_count": null,
      "outputs": []
    },
    {
      "cell_type": "markdown",
      "source": [
        "**Loops**\n",
        "\n",
        "Loops are a way to execute a block of code multiple times. There are two main types of loops: **while loops and for loops.**"
      ],
      "metadata": {
        "id": "wvHTLi-8dDhO"
      }
    },
    {
      "cell_type": "code",
      "source": [
        "# While-Loop\n",
        "i = 0\n",
        "while i < 10:\n",
        "\tprint(i)\n",
        "\ti += 1"
      ],
      "metadata": {
        "id": "FkQGIyjIdVUM"
      },
      "execution_count": null,
      "outputs": []
    },
    {
      "cell_type": "code",
      "source": [
        "# For-Loop\n",
        "for i in range(10):\n",
        "\tprint(i)"
      ],
      "metadata": {
        "id": "K7AinWRNdi-Z"
      },
      "execution_count": null,
      "outputs": []
    },
    {
      "cell_type": "markdown",
      "source": [
        "**Data Structures**\n",
        "\n",
        "There are three data structures in Python that you will find the most used and useful. They are **tuples**, **lists** and **dictionaries**.\n",
        "\n",
        "**Tuple Example**\n",
        "\n",
        "Tuples are read-only collections of items."
      ],
      "metadata": {
        "id": "KzpVB0dTdue4"
      }
    },
    {
      "cell_type": "code",
      "source": [
        "a = (1, 2, 3)\n",
        "print(a)"
      ],
      "metadata": {
        "id": "9aCbtTu1d44i"
      },
      "execution_count": null,
      "outputs": []
    },
    {
      "cell_type": "markdown",
      "source": [
        "**List Example**\n",
        "\n",
        "Lists use the square bracket notation and can be index using array notation."
      ],
      "metadata": {
        "id": "CBO6UdfEd-7P"
      }
    },
    {
      "cell_type": "code",
      "source": [
        "mylist = [1, 2, 3]\n",
        "print(\"Zeroth Value: %d\" % mylist[0])\n",
        "mylist.append(4)\n",
        "print(\"List Length: %d\" % len(mylist))\n",
        "for value in mylist:\n",
        "\tprint(value)"
      ],
      "metadata": {
        "id": "bAN8RBrjeBLT"
      },
      "execution_count": null,
      "outputs": []
    },
    {
      "cell_type": "markdown",
      "source": [
        "**Dictionary Example**\n",
        "\n",
        "Dictionaries are mappings of names to values, like a map. Note the use of the curly bracket notation."
      ],
      "metadata": {
        "id": "B8wyhlTdeG2Y"
      }
    },
    {
      "cell_type": "code",
      "source": [
        "mydict = {'a': 1, 'b': 2, 'c': 3}\n",
        "print(\"A value: %d\" % mydict['a'])\n",
        "mydict['a'] = 11\n",
        "print(\"A value: %d\" % mydict['a'])\n",
        "print(\"Keys: %s\" % mydict.keys())\n",
        "print(\"Values: %s\" % mydict.values())\n",
        "for key in mydict.keys():\n",
        "\tprint(mydict[key])"
      ],
      "metadata": {
        "id": "YSsICwZPeBV2"
      },
      "execution_count": null,
      "outputs": []
    },
    {
      "cell_type": "markdown",
      "source": [
        "**Functions**\n",
        "\n",
        "To improve code readability, it is common to separate the code into different blocks, responsible for performing precise actions: **functions**. A function takes some inputs and process them to return some outputs.\n",
        "\n",
        "The example below defines a new function to calculate the sum of two values and calls the function with two arguments."
      ],
      "metadata": {
        "id": "lu2a4BMHeRNs"
      }
    },
    {
      "cell_type": "code",
      "source": [
        "# Sum function\n",
        "def mysum(x, y):\n",
        "\treturn x + y\n",
        "\n",
        "# Test sum function\n",
        "print(mysum(1, 3))"
      ],
      "metadata": {
        "id": "o16M6nK2dZnV"
      },
      "execution_count": null,
      "outputs": []
    },
    {
      "cell_type": "markdown",
      "source": [
        "**Classes**\n",
        "\n",
        "The syntax for defining classes in Python is straightforward:"
      ],
      "metadata": {
        "id": "_wVPKwHlgeeQ"
      }
    },
    {
      "cell_type": "code",
      "source": [
        "class Person:\n",
        "  def __init__(self, name, age):\n",
        "    self.name = name\n",
        "    self.age = age\n",
        "\n",
        "p1 = Person(\"John\", 36)\n",
        "\n",
        "print(p1.name)\n",
        "print(p1.age)"
      ],
      "metadata": {
        "id": "eweIKUEvhk2c"
      },
      "execution_count": null,
      "outputs": []
    },
    {
      "cell_type": "markdown",
      "source": [
        "# **Exercise 1**\n",
        "**Exercise 1.1**\n",
        "\n",
        "Using a conditional, carete a function called **relu** that takes an input x and returns a values. The function will be defined as follows:\n",
        "\n",
        "relu(x)=x,\n",
        "\n",
        "if x≥0, relu(x)=x, 0, otherwise\n",
        "\n",
        "Test your function as follows to see whether it returns the expected value or not.  e.g **relu(-3)**\n"
      ],
      "metadata": {
        "id": "nuqcaNmwe6OD"
      }
    },
    {
      "cell_type": "code",
      "source": [
        "# ***************************************************\n",
        "# INSERT YOUR CODE HERE\n",
        "# ***************************************************"
      ],
      "metadata": {
        "id": "Qg9xSwAffUCW"
      },
      "execution_count": null,
      "outputs": []
    },
    {
      "cell_type": "markdown",
      "source": [
        "**Exercise 1.2**\n",
        "\n",
        "Write a Python function to find the **Max of two numbers** and another one to find the **Max of three numbers**."
      ],
      "metadata": {
        "id": "7hYXrwO_gJo9"
      }
    },
    {
      "cell_type": "code",
      "source": [
        "# ***************************************************\n",
        "# INSERT YOUR CODE HERE\n",
        "# ***************************************************"
      ],
      "metadata": {
        "id": "nMv89fTdgLQp"
      },
      "execution_count": null,
      "outputs": []
    },
    {
      "cell_type": "markdown",
      "source": [
        "# **NumPy Crash Course**\n",
        "Numpy is the core library for scientific computing in Python. It provides a high-performance multidimensional array object, and tools for working with these arrays.\n",
        "\n",
        "NumPy provides the foundation data structures and operations for SciPy. These are arrays (ndarrays) that are efficient to define and manipulate.\n",
        "\n",
        "**Create Array**\n",
        "\n",
        "To use Numpy, we first need to import the numpy package:"
      ],
      "metadata": {
        "id": "k_ZA3UpcidyW"
      }
    },
    {
      "cell_type": "code",
      "source": [
        "# define an array\n",
        "import numpy\n",
        "mylist = [[1, 2, 3], [3, 4, 5]]\n",
        "myarray = numpy.array(mylist)\n",
        "print(myarray)\n",
        "print(myarray.shape)"
      ],
      "metadata": {
        "id": "VweXZ-nFjqv5"
      },
      "execution_count": null,
      "outputs": []
    },
    {
      "cell_type": "markdown",
      "source": [
        "**Access Data**\n",
        "\n",
        "Array notation and ranges can be used to efficiently access data in a NumPy array."
      ],
      "metadata": {
        "id": "Ip0CioUJjuGg"
      }
    },
    {
      "cell_type": "code",
      "source": [
        "# access values\n",
        "print(\"First row: %s\" % myarray[0])\n",
        "print(\"Last row: %s\" % myarray[-1])\n",
        "print(\"Specific row and col: %s\" % myarray[0, 2])\n",
        "print(\"Whole col: %s\" % myarray[:, 2])"
      ],
      "metadata": {
        "id": "-CLOMYSRjxvg"
      },
      "execution_count": null,
      "outputs": []
    },
    {
      "cell_type": "markdown",
      "source": [
        "**Arithmetic**\n",
        "\n",
        "NumPy arrays can be used directly in arithmetic."
      ],
      "metadata": {
        "id": "TD03zLXRkYeq"
      }
    },
    {
      "cell_type": "code",
      "source": [
        "# arithmetic\n",
        "import numpy as np\n",
        "myarray1 = np.array([2, 2, 2])\n",
        "myarray2 = np.array([3, 3, 3])\n",
        "print(\"Addition: %s\" % (myarray1 + myarray2))\n",
        "print(\"Multiplication: %s\" % (myarray1 * myarray2))"
      ],
      "metadata": {
        "id": "KJvjyBeelSqL"
      },
      "execution_count": null,
      "outputs": []
    },
    {
      "cell_type": "markdown",
      "source": [
        "**Slicing and masking**\n",
        "\n",
        "Like Python lists, NumPy arrays support slicing\n",
        "\n",
        "We can create an array which includes a range of values\n",
        "\n",
        "\n"
      ],
      "metadata": {
        "id": "E64FkQ50X-KL"
      }
    },
    {
      "cell_type": "code",
      "source": [
        "np.arange(10)"
      ],
      "metadata": {
        "id": "p_LIKDRoYMj0"
      },
      "execution_count": null,
      "outputs": []
    },
    {
      "cell_type": "markdown",
      "source": [
        "\n",
        "We can also select only certain elements from the array"
      ],
      "metadata": {
        "id": "Hv0vSv_JaCLO"
      }
    },
    {
      "cell_type": "code",
      "source": [
        "np.arange(10)[5:]"
      ],
      "metadata": {
        "id": "gRy3mwwRZ914"
      },
      "execution_count": null,
      "outputs": []
    },
    {
      "cell_type": "markdown",
      "source": [
        "We can also select only certain elements from the array"
      ],
      "metadata": {
        "id": "WFc7uokwaIMy"
      }
    },
    {
      "cell_type": "code",
      "source": [
        "x = np.arange(10)\n",
        "mask = x >= 5\n",
        "x[mask]"
      ],
      "metadata": {
        "id": "wlW5UeEvaJ3Z"
      },
      "execution_count": null,
      "outputs": []
    },
    {
      "cell_type": "markdown",
      "source": [
        "# **Exercise 2**\n",
        "\n",
        "**Exercise 2.1**\n",
        "\n",
        "Write a NumPy program to create an array of the integers from 30 to 70."
      ],
      "metadata": {
        "id": "GAJ_tUq6aU6Q"
      }
    },
    {
      "cell_type": "code",
      "source": [
        "# ***************************************************\n",
        "# INSERT YOUR CODE HERE\n",
        "# ***************************************************"
      ],
      "metadata": {
        "id": "1tR1bMzxagRz"
      },
      "execution_count": null,
      "outputs": []
    },
    {
      "cell_type": "markdown",
      "source": [
        "**Exercise 2.2**\n",
        "\n",
        "Rewrite the relu function (see Python section) using np.maximum. Check that it works on both a single value and on an array of values."
      ],
      "metadata": {
        "id": "Hty7ciqKa-2M"
      }
    },
    {
      "cell_type": "code",
      "source": [
        "# ***************************************************\n",
        "# INSERT YOUR CODE HERE\n",
        "# ***************************************************"
      ],
      "metadata": {
        "id": "1TiZuMqtbi0q"
      },
      "execution_count": null,
      "outputs": []
    },
    {
      "cell_type": "markdown",
      "source": [
        "**Exercise 2.3**\n",
        "\n",
        "Write a NumPy program to find common values between two arrays.\n",
        "\n",
        "Use this builtin function **numpy.intersect1d** [more information about this builtin function can be foud here](https://numpy.org/doc/stable/reference/generated/numpy.intersect1d.html)\n",
        "\n",
        "Expected Output:\n",
        "Array1: [ 0 10 20 40 60]\n",
        "Array2: [10, 30, 40]\n",
        "Common values between two arrays:\n",
        "[10 40]"
      ],
      "metadata": {
        "id": "_hRdbW3EdHaC"
      }
    },
    {
      "cell_type": "code",
      "source": [
        "# ***************************************************\n",
        "# INSERT YOUR CODE HERE\n",
        "# ***************************************************"
      ],
      "metadata": {
        "id": "mbS1oznzdIro"
      },
      "execution_count": null,
      "outputs": []
    },
    {
      "cell_type": "markdown",
      "source": [
        "**Exercise 2.4**\n",
        "\n",
        "Write a NumPy program to create a 3x4 matrix filled with values ​​from 10 to 21."
      ],
      "metadata": {
        "id": "ZTO1J4J4b6ZI"
      }
    },
    {
      "cell_type": "code",
      "source": [
        "# ***************************************************\n",
        "# INSERT YOUR CODE HERE\n",
        "# ***************************************************"
      ],
      "metadata": {
        "id": "MaK48KP-b5mU"
      },
      "execution_count": null,
      "outputs": []
    },
    {
      "cell_type": "markdown",
      "source": [
        "**Exercise 2.5**\n",
        "\n",
        "Write a Python script to calculate the following statistical values from a NumPy array of size 10 with random values between 1 and 50:\n",
        "\n",
        "*   Standard deviation\n",
        "*   Variance\n",
        "*   Median\n",
        "*   75th percentile"
      ],
      "metadata": {
        "id": "hJcf64_I9EdF"
      }
    },
    {
      "cell_type": "code",
      "source": [
        "# ***************************************************\n",
        "# INSERT YOUR CODE HERE\n",
        "# ***************************************************"
      ],
      "metadata": {
        "id": "ZURUsGkG9Yp0"
      },
      "execution_count": null,
      "outputs": []
    },
    {
      "cell_type": "markdown",
      "source": [
        "# More Advanced\n",
        "**Exercise 2.6**\n",
        "\n",
        "Simulate a random walk in 1D using NumPy for 100 steps, starting at position 0. For each step, randomly increment the position by +1 or -1. Plot the walk trajectory using matplotlib"
      ],
      "metadata": {
        "id": "YdHzhqdh_WsF"
      }
    },
    {
      "cell_type": "code",
      "source": [
        "# ***************************************************\n",
        "# INSERT YOUR CODE HERE\n",
        "# ***************************************************"
      ],
      "metadata": {
        "id": "Vt7joRUF_Zc4"
      },
      "execution_count": null,
      "outputs": []
    }
  ]
}