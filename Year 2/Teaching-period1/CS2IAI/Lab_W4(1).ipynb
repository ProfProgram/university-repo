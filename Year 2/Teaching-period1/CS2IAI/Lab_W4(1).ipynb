{
  "cells": [
    {
      "cell_type": "markdown",
      "metadata": {
        "id": "ApFWetsZ4WA2"
      },
      "source": [
        "\n",
        "# **CS2IAI Introduction to Artificial Intelligence**\n",
        "\n",
        "Prepaped by Dr Amal Htait\n",
        "\n",
        "**In this practical session we will learn about uninformed search strategies**\n",
        "\n",
        "\n",
        "Read through the notebook, then answer the exercise questions. Your answers should be added in code cells."
      ]
    },
    {
      "cell_type": "markdown",
      "metadata": {
        "id": "kA2RPR0blJS2"
      },
      "source": [
        "The main **uninformed search** strategies are:\n",
        "\n",
        "1. Depth-first search (DFS)\n",
        "2. Breadth-first search (BFS)\n",
        "3. Depth-limited search\n",
        "4. Iterative deepening search\n",
        "\n",
        "These algorithms can be applied to traverse graphs or trees. To represent such data structures in Python, we need to use dictionaries where the vertices (or nodes) will be stored as keys and the adjacent vertices as values.\n"
      ]
    },
    {
      "cell_type": "markdown",
      "metadata": {
        "id": "F5TlIGchn7jb"
      },
      "source": [
        "\n",
        "\n",
        "---\n",
        "\n",
        "\n",
        "# ***Notes : Data Structures***\n",
        "\n",
        "A data structure is a specialized format for organizing, processing, retrieving and storing data. \\\\\n",
        "The basic Python data structures in Python include list, tuples, set, and dictionary.\n",
        "\n",
        "* **List** is a collection which is ordered and changeable. Allows duplicate members.\n",
        "\n"
      ]
    },
    {
      "cell_type": "code",
      "execution_count": null,
      "metadata": {
        "colab": {
          "base_uri": "https://localhost:8080/"
        },
        "id": "ObIPGxOiDKnS",
        "outputId": "fb43787b-d267-4da6-9364-3496e3b17595"
      },
      "outputs": [
        {
          "name": "stdout",
          "output_type": "stream",
          "text": [
            "Full List =  ['banana', 'apple', 'apple', 'tomato']\n",
            "After pop() =  ['banana', 'apple', 'apple']\n",
            "After pop(0) =  ['apple', 'apple']\n"
          ]
        }
      ],
      "source": [
        "mylist = []\n",
        "\n",
        "mylist.append(\"banana\")\n",
        "mylist.append(\"apple\")\n",
        "mylist.append(\"apple\")\n",
        "mylist.append(\"tomato\")\n",
        "print(\"Full List = \", mylist)\n",
        "\n",
        "mylist.pop()\n",
        "print(\"After pop() = \", mylist)\n",
        "\n",
        "mylist.pop(0)\n",
        "print(\"After pop(0) = \", mylist)"
      ]
    },
    {
      "cell_type": "markdown",
      "metadata": {
        "id": "RHT0jmzKCf6Q"
      },
      "source": [
        "* **Tuple** is a collection which is ordered and unchangeable. Allows duplicate members.\n"
      ]
    },
    {
      "cell_type": "code",
      "execution_count": null,
      "metadata": {
        "colab": {
          "base_uri": "https://localhost:8080/"
        },
        "id": "nQ5DTNQIEQw8",
        "outputId": "98a3e482-fafe-44ae-ce83-e8d302e43bc3"
      },
      "outputs": [
        {
          "name": "stdout",
          "output_type": "stream",
          "text": [
            "Full Tuple =  ('apple', 'banana', 'cherry')\n",
            "After adding =  ('apple', 'banana', 'cherry', 'tomato')\n",
            "List =  ['apple', 'banana', 'cherry', 'tomato']\n",
            "After Remove =  ('banana', 'cherry', 'tomato')\n"
          ]
        }
      ],
      "source": [
        "mytuple = (\"apple\", \"banana\", \"cherry\")\n",
        "print(\"Full Tuple = \", mytuple)\n",
        "\n",
        "mytuple = mytuple + (\"tomato\",)\n",
        "print(\"After adding = \",mytuple)\n",
        "\n",
        "mylist = list(mytuple)\n",
        "print(\"List = \", mylist)\n",
        "\n",
        "mylist.pop(0)\n",
        "mytuple = tuple(mylist)\n",
        "print(\"After Remove = \", mytuple)\n"
      ]
    },
    {
      "cell_type": "markdown",
      "metadata": {
        "id": "spGlFW80ChQD"
      },
      "source": [
        "* **Set** (or stack) is a collection which is unordered, unchangeable (but you can remove items and add new items), and unindexed. No duplicate members.\n",
        "\n",
        "![pushpop.png](data:image/png;base64,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)\n"
      ]
    },
    {
      "cell_type": "code",
      "execution_count": null,
      "metadata": {
        "colab": {
          "base_uri": "https://localhost:8080/"
        },
        "id": "Oh9M-bk-CPv8",
        "outputId": "a9bcdc34-6ba1-4435-ba29-c8458492cd6e"
      },
      "outputs": [
        {
          "name": "stdout",
          "output_type": "stream",
          "text": [
            "Full Set =  {'banana', 'apple', 'cherry'}\n",
            "After pop() =  {'apple', 'cherry'}\n"
          ]
        }
      ],
      "source": [
        "myset = set()\n",
        "myset.add(\"cherry\")\n",
        "myset.add(\"apple\")\n",
        "myset.add(\"banana\")\n",
        "print(\"Full Set = \", myset)\n",
        "\n",
        "myset.pop()\n",
        "print(\"After pop() = \", myset)\n"
      ]
    },
    {
      "cell_type": "markdown",
      "metadata": {
        "id": "k_v9-gAICi6K"
      },
      "source": [
        "* **Dictionary** is a collection which is ordered and changeable. No duplicate members: thisdict = {\n",
        "  \"brand\": \"Ford\",\n",
        "  \"model\": \"Mustang\",\n",
        "  \"year\": 1964\n",
        "}.\n",
        "Where \"brand\", \"model\" and \"year\" are keys, and \"Ford\", \"Mustang\" and 1964 are the values."
      ]
    },
    {
      "cell_type": "code",
      "execution_count": null,
      "metadata": {
        "colab": {
          "base_uri": "https://localhost:8080/"
        },
        "id": "fhqyDWbEHR5n",
        "outputId": "780d66bf-77f0-4c99-808f-b2971ea0b7e5"
      },
      "outputs": [
        {
          "name": "stdout",
          "output_type": "stream",
          "text": [
            "Full Dictionary =  {'brand': 'Ford', 'model': 'Mustang', 'year': 1964}\n",
            "Dictionary after the add =  {'brand': 'Ford', 'model': 'Mustang', 'year': 1964, 'color': 'red'}\n",
            "Dictionary after the pop =  {'brand': 'Ford', 'model': 'Mustang', 'color': 'red'}\n"
          ]
        }
      ],
      "source": [
        "thisdict = {\n",
        "  \"brand\": \"Ford\",\n",
        "  \"model\": \"Mustang\",\n",
        "  \"year\": 1964\n",
        "}\n",
        "print(\"Full Dictionary = \", thisdict)\n",
        "\n",
        "thisdict[\"color\"] = \"red\"\n",
        "print(\"Dictionary after the add = \", thisdict)\n",
        "\n",
        "\n",
        "thisdict.pop(\"year\")\n",
        "print(\"Dictionary after the pop = \", thisdict)\n"
      ]
    },
    {
      "cell_type": "markdown",
      "metadata": {
        "id": "Jmme_UNvgU1t"
      },
      "source": [
        "* **Deque** (Doubly Ended Queue) in Python is implemented using the module “collections“. Deque is preferred over a list in the cases where we need quicker append and pop operations from both the ends of the container\n",
        "\n",
        "![anod.png](data:image/png;base64,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)"
      ]
    },
    {
      "cell_type": "code",
      "execution_count": 4,
      "metadata": {
        "colab": {
          "base_uri": "https://localhost:8080/"
        },
        "id": "__4yP0g_gjJg",
        "outputId": "1811be3b-002a-49c5-cfbe-ab8cb4c709d6"
      },
      "outputs": [
        {
          "name": "stdout",
          "output_type": "stream",
          "text": [
            "The full queue =  deque(['apple', 'banana', 'cherry'])\n",
            "the queue after removing the left value =  deque(['banana', 'cherry'])\n",
            "the queue after removing the right value =  deque(['banana'])\n",
            "the queue after adding the right value =  deque(['berry', 'banana'])\n"
          ]
        }
      ],
      "source": [
        "from collections import deque\n",
        "\n",
        "# Declaring deque\n",
        "queue = deque(['apple','banana','cherry'])\n",
        "\n",
        "print(\"The full queue = \",queue)\n",
        "\n",
        "# using popleft() to delete element from left end (the first inserted)\n",
        "queue.popleft()\n",
        "print(\"the queue after removing the left value = \", queue)\n",
        "\n",
        "# using pop() to delete element from right end (the last inserted)\n",
        "queue.pop()\n",
        "print(\"the queue after removing the right value = \", queue)\n",
        "\n",
        "# using appendleft() to add element from left end (at the start of the list)\n",
        "queue.appendleft(\"berry\")\n",
        "print(\"the queue after adding the right value = \", queue)\n"
      ]
    },
    {
      "cell_type": "markdown",
      "metadata": {
        "id": "zkBPVQ26CQhV"
      },
      "source": [
        "\n",
        "\n",
        "---\n",
        "\n"
      ]
    },
    {
      "cell_type": "markdown",
      "metadata": {
        "id": "us2VGbUjy9Ec"
      },
      "source": [
        "The following is an example graph which we'll be using in the tasks.\n",
        "```\n",
        "Undirected graph G = {  'A': ['B', 'C'],\n",
        "                        'B': ['D', 'E', 'A'],\n",
        "                        'C': ['F', 'G', 'A'],\n",
        "                        'D': ['B'],\n",
        "                        'E': ['B'],\n",
        "                        'F': ['C'],\n",
        "                        'G': ['C'] }\n",
        "```\n",
        "\n",
        "![Untitled Diagram (3).png](data:image/png;base64,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)\n"
      ]
    },
    {
      "cell_type": "markdown",
      "metadata": {
        "id": "Hh43NXX26BXM"
      },
      "source": [
        "# **Exercise 1: Depth-First Search**\n",
        "\n",
        "All of the search algorithms will take a graph and a **starting point as input**. Having a **goal** is optional. **Depth-First Search** will visit the first adjacent vertex (node) of the starting point and then repeat the same process until it reaches the very bottom of the branch and then it will finally start backtracking.\n",
        "\n",
        "A couple of things we need to do in this algorithm is keep track of which vertices (nodes) we have visited, and also keep track of the fringe. The fringe (or frontier) is the collection of vertices that are available for expanding. We will store the fringe in a list commonly called “stack”, referring to its ability to pop items from the tail.\n",
        "\n",
        "---\n",
        "\n",
        "**DFS Search Algorithm:**\n",
        "```\n",
        "DFS(G,v)   ( v is the vertex where the search starts )    \n",
        "        Stack S := {};   ( start with an empty stack )    \n",
        "        for each vertex u, set visited[u] := false;    \n",
        "        push S, v;    \n",
        "        while (S is not empty) do    \n",
        "           u := pop S;    \n",
        "           if (not visited[u]) then    \n",
        "              visited[u] := true;    \n",
        "              for each unvisited neighbour w of uu    \n",
        "                 push S, w;    \n",
        "           end if    \n",
        "        end while    \n",
        "     END DFS()\n",
        "```\n",
        "---\n",
        "\n"
      ]
    },
    {
      "cell_type": "markdown",
      "metadata": {
        "id": "UzqoBo7P7p8O"
      },
      "source": [
        "**Exercise 1.1**\n",
        "\n",
        "Write the DFS Search function in Python language from the given Algorithm. The return of the function call **dfs('G', 'A')** should be **A C G F B E D**, with **G** is the graph and **A** is the search start."
      ]
    },
    {
      "cell_type": "code",
      "execution_count": 3,
      "metadata": {
        "id": "LcbaB_Uo4SIA"
      },
      "outputs": [
        {
          "name": "stdout",
          "output_type": "stream",
          "text": [
            "A\n"
          ]
        },
        {
          "ename": "AttributeError",
          "evalue": "'list' object has no attribute 'push'",
          "output_type": "error",
          "traceback": [
            "\u001b[1;31m---------------------------------------------------------------------------\u001b[0m",
            "\u001b[1;31mAttributeError\u001b[0m                            Traceback (most recent call last)",
            "Cell \u001b[1;32mIn[3], line 24\u001b[0m\n\u001b[0;32m     15\u001b[0m \u001b[38;5;66;03m#TEST\u001b[39;00m\n\u001b[0;32m     16\u001b[0m thisgraph \u001b[38;5;241m=\u001b[39m { \u001b[38;5;124m'\u001b[39m\u001b[38;5;124mA\u001b[39m\u001b[38;5;124m'\u001b[39m: [\u001b[38;5;124m'\u001b[39m\u001b[38;5;124mB\u001b[39m\u001b[38;5;124m'\u001b[39m, \u001b[38;5;124m'\u001b[39m\u001b[38;5;124mC\u001b[39m\u001b[38;5;124m'\u001b[39m],\n\u001b[0;32m     17\u001b[0m               \u001b[38;5;124m'\u001b[39m\u001b[38;5;124mB\u001b[39m\u001b[38;5;124m'\u001b[39m: [\u001b[38;5;124m'\u001b[39m\u001b[38;5;124mD\u001b[39m\u001b[38;5;124m'\u001b[39m, \u001b[38;5;124m'\u001b[39m\u001b[38;5;124mE\u001b[39m\u001b[38;5;124m'\u001b[39m, \u001b[38;5;124m'\u001b[39m\u001b[38;5;124mA\u001b[39m\u001b[38;5;124m'\u001b[39m],\n\u001b[0;32m     18\u001b[0m               \u001b[38;5;124m'\u001b[39m\u001b[38;5;124mC\u001b[39m\u001b[38;5;124m'\u001b[39m: [\u001b[38;5;124m'\u001b[39m\u001b[38;5;124mF\u001b[39m\u001b[38;5;124m'\u001b[39m, \u001b[38;5;124m'\u001b[39m\u001b[38;5;124mG\u001b[39m\u001b[38;5;124m'\u001b[39m, \u001b[38;5;124m'\u001b[39m\u001b[38;5;124mA\u001b[39m\u001b[38;5;124m'\u001b[39m],\n\u001b[1;32m   (...)\u001b[0m\n\u001b[0;32m     21\u001b[0m               \u001b[38;5;124m'\u001b[39m\u001b[38;5;124mF\u001b[39m\u001b[38;5;124m'\u001b[39m: [\u001b[38;5;124m'\u001b[39m\u001b[38;5;124mC\u001b[39m\u001b[38;5;124m'\u001b[39m],\n\u001b[0;32m     22\u001b[0m               \u001b[38;5;124m'\u001b[39m\u001b[38;5;124mG\u001b[39m\u001b[38;5;124m'\u001b[39m: [\u001b[38;5;124m'\u001b[39m\u001b[38;5;124mC\u001b[39m\u001b[38;5;124m'\u001b[39m] }\n\u001b[1;32m---> 24\u001b[0m \u001b[43mdfs\u001b[49m\u001b[43m(\u001b[49m\u001b[43mthisgraph\u001b[49m\u001b[43m,\u001b[49m\u001b[43m \u001b[49m\u001b[38;5;124;43m'\u001b[39;49m\u001b[38;5;124;43mA\u001b[39;49m\u001b[38;5;124;43m'\u001b[39;49m\u001b[43m)\u001b[49m\n",
            "Cell \u001b[1;32mIn[3], line 13\u001b[0m, in \u001b[0;36mdfs\u001b[1;34m(graph, start)\u001b[0m\n\u001b[0;32m     11\u001b[0m \u001b[38;5;28;01mfor\u001b[39;00m i \u001b[38;5;129;01min\u001b[39;00m node:\n\u001b[0;32m     12\u001b[0m     visited\u001b[38;5;241m.\u001b[39madd(\u001b[38;5;28;01mFalse\u001b[39;00m)\n\u001b[1;32m---> 13\u001b[0m \u001b[43mstack\u001b[49m\u001b[38;5;241;43m.\u001b[39;49m\u001b[43mpush\u001b[49m[node]\n",
            "\u001b[1;31mAttributeError\u001b[0m: 'list' object has no attribute 'push'"
          ]
        }
      ],
      "source": [
        "def dfs(graph, start):\n",
        "    visited = set()\n",
        "    stack = [start]\n",
        "\n",
        "    while stack: # loop while stack is not empty\n",
        "        node = stack.pop() # get the first item\n",
        "        print(node)\n",
        "        # ***************************************************\n",
        "        # INSERT YOUR CODE HERE\n",
        "        # ***************************************************\n",
        "        for i in node:\n",
        "            visited.add(False)\n",
        "        stack.add[node]\n",
        "\n",
        "#TEST\n",
        "thisgraph = { 'A': ['B', 'C'],\n",
        "              'B': ['D', 'E', 'A'],\n",
        "              'C': ['F', 'G', 'A'],\n",
        "              'D': ['B'],\n",
        "              'E': ['B'],\n",
        "              'F': ['C'],\n",
        "              'G': ['C'] }\n",
        "\n",
        "dfs(thisgraph, 'A')"
      ]
    },
    {
      "cell_type": "markdown",
      "metadata": {
        "id": "GtEDwGxT8koi"
      },
      "source": [
        "**Exercise 1.2**\n",
        "\n",
        "What changes should by applied to the function to return the path of a search with a goal? The return of the function call **dfs_goal('G', 'A', 'E')** should be **A C G F B E**, with **G** is the graph, **A** is the search start and **E** is the goal."
      ]
    },
    {
      "cell_type": "code",
      "execution_count": null,
      "metadata": {
        "id": "zP__nQUU8_y_"
      },
      "outputs": [],
      "source": [
        "def dfs_goal(graph, start, goal):\n",
        "    visited = set()\n",
        "    stack = [start]\n",
        "\n",
        "    while stack: # loop while stack is not empty\n",
        "        node = stack.pop() # get the first item\n",
        "        print(node)\n",
        "        # ***************************************************\n",
        "        # INSERT YOUR CODE HERE\n",
        "        # ***************************************************\n",
        "\n",
        "#TEST\n",
        "thisgraph = { 'A': ['B', 'C'],\n",
        "              'B': ['D', 'E', 'A'],\n",
        "              'C': ['F', 'G', 'A'],\n",
        "              'D': ['B'],\n",
        "              'E': ['B'],\n",
        "              'F': ['C'],\n",
        "              'G': ['C'] }\n",
        "\n",
        "dfs_goal(thisgraph, 'A', 'E')"
      ]
    },
    {
      "cell_type": "markdown",
      "metadata": {
        "id": "OWS1yTei9S2P"
      },
      "source": [
        "# **Exercise 2: Breadth-First Search**\n",
        "\n",
        "It’s totally possible to implement BFS with just changing one character from the DFS function above.\n",
        "The BFS algorithm instead of following a branch down to the bottom, will visit all the vertices of the same depth before moving on deeper.\n",
        "\n",
        "\\noindent So when choosing which vertex (node) to expand next, it will choose the oldest item on the fringe, unlike DFS which chooses the newest. That’s why DFS uses a **stack** and pops items from the tail, while BFS uses a **queue** and pops items from the front. So by modifying this line node = stack.pop() to node = stack.pop(0).\n",
        "\n",
        "To cut down on the cost of **pop(0)** we can use a double ended queue called **deque**. This allows us to append items to both ends.\n",
        "That way, we’re appending to the list in reverse order (**appendleft**) so the item in the tail is the oldest and not the newest"
      ]
    },
    {
      "cell_type": "markdown",
      "metadata": {
        "id": "9mhCCKh090XK"
      },
      "source": [
        "**Exercise 2.1**\n",
        "\n",
        "Write the BFS Search function in Python language. The return of the function call **bfs('G', 'A')** should be **A B C D E F G**, with **G** is the graph, **A** is the search start"
      ]
    },
    {
      "cell_type": "code",
      "execution_count": null,
      "metadata": {
        "id": "MQzCttl_-BZ6"
      },
      "outputs": [],
      "source": [
        "from collections import deque\n",
        "\n",
        "def bfs(graph, start):\n",
        "    visited = set()\n",
        "    queue = deque(start)\n",
        "\n",
        "    while queue:\n",
        "        node = queue.pop()\n",
        "        print(node)\n",
        "        # ***************************************************\n",
        "        # INSERT YOUR CODE HERE\n",
        "        # ***************************************************\n",
        "\n",
        "\n",
        "#TEST\n",
        "thisgraph = { 'A': ['B', 'C'],\n",
        "              'B': ['D', 'E', 'A'],\n",
        "              'C': ['F', 'G', 'A'],\n",
        "              'D': ['B'],\n",
        "              'E': ['B'],\n",
        "              'F': ['C'],\n",
        "              'G': ['C'] }\n",
        "\n",
        "# TEST\n",
        "bfs(thisgraph, 'A')\n",
        "\n"
      ]
    },
    {
      "cell_type": "markdown",
      "metadata": {
        "id": "8g8EIuXR-vFm"
      },
      "source": [
        "# **Advanced - Exercise 3: The 8-puzzle**\n",
        "\n",
        "The 8-puzzle problem is a puzzle played on a 3-by-3 grid with 8 square blocks labeled 1 through 8 and a blank square. Your goal is to rearrange the blocks so that they are in order. The aim of the puzzle is to achieve a goal configuration of tiles from an initial configuration by sliding the individual tiles around the grid. This problem can be solved by searching for a solution, which is a sequence of actions (tile moves) that leads from the initial state to the goal state (see online 8-puzzle solver: https://deniz.co/8-puzzle-solver/)\n",
        "\n",
        "![8puzzle1.png](data:image/png;base64,iVBORw0KGgoAAAANSUhEUgAAAMAAAADCCAIAAACQdlpbAAAAAXNSR0IArs4c6QAAAARnQU1BAACxjwv8YQUAAAAJcEhZcwAAFiUAABYlAUlSJPAAAAuNSURBVHhe7d3NsdtmFoRhxzLxTCkU7RyGElAKXk0AKm29UALeeOMqB+AENFfDt8kG+HeB78O552r6Ka7aXrTIJgBSKuKX7xEDMqAYkgHFkAwohmRAMSQDiiEZUAy5MaBfIu5gIiYDig2YiMmAYgMmYjKg2ICJmAwoNmAi5vmASJuhnJA2RlEhbY+6QmoyoCIUFdL2qCukJgMqQlEhbY+6QmoyoCIUFdL2qCukJgMqQlEhbY+6QmoyoCIUFdL2qCukJgMqQlEhbY+6QmoyoCIUFdL2qCukJgMqQlEhbY+6QmoyoCIUFdL2qCukJgMqQlEhbY+6QmoyoCIUFdL2qCukJgMqQlEhbY+6QmoyoCIUFdL2qCukJgMqQlEhbY+6QmoyoCIUFdL2qCukJgMqQlEhbY+6QmrKBvT7r//597/+9/j1b6IRlBPSUX99/kpJPT594T+NoqiQtkddITVFA/ry7fKq9BzQn398PDdcP779zv80gKJCutN66FOe0puoK6SmYkCr16bhgB6t5/QY3hBFhXSHvz+tu/GYdrB01BVSc/SArk8KDQd0Ob3ef3z8/A//9z4UFdKt/vntw7qYPb7+9if/3zTUFVJz4IDuva27DWjZ04ayfLU+/PEX+S4UFdKN/Erg5mP6uYy6QmqOGtCDP2q3AXnV1UoW2xo7i1FUSLdZHCn1NC6P8TMu1xx1hdRUDOjlVWl8Ee0vwNV5yi843nxAVmYx9Hklr1FXSM3RA+IlaTygR/wI1OEUdu6zeA7vDWsG6gqpOXBA/od5nwPyU0aPi+hriwu1+R/EqCuk5qgBrbzHAXnnRh/jz9af50cnfhN1hdRkQDetvn2Y8M6mqJAOWFzgH/AB/oS6QmoyoGuHfM9LUSEdsDhAnh4/2fdA7v0MaP2l4pS2LygqpDMceiiirpCaDMisv+edeVVBUSGdZPrTe0ZdITUZkKzXM/kTDUWFdJbDvgqirpCaDOhkeeaa/XXcC4oK6QZFX3iuUFdITQb0g9c7Yj0vKCqkW3jJ1ReGD/7TIOoKqcmArr9QufMYGxZFhXSLxcWyPY338imoK6QmA1oefh483npAr/pnJ/kU9kqUE9I9XvGqnB5vP6CnB8v5X0ZTV0jN//2AHv8TLX90GNDVCcseP/VfZUxHOSFtjKJCutP6u/Lpfwl/Rl0hNRlQEYoKaXvUFVKTARWhqJC2R10hNRlQEYoKaXvUFVKTARWhqJC2R10hNRlQEYoKaXvUFVKTARWhqJC2R10hNRlQEYoKaXvUFVKTARWhqJC2R10hNRlQEYoKaXvUFVKTARWhqJC2R10hNRlQEYoKaXvUFVKTARWhqJC2R10hNRlQEYoKaXvUFVKTARWhqJC2R10hNRlQEYoKaXvUFVKTARWhqJC2R10hNc8HFHHGREwGFBswEZMBxQZMxGRAsQETMRlQbMBEzPMBkTZDOSFtjKJC2h51hdRkQEUoKqTtUVdITQZUhKJC2h51hdRkQEUoKqTtUVdITQZUhKJC2h51hdRkQEUoKqTtUVdITQZUhKJC2h51hdRkQEUoKqTtUVdITQZUhKJC2h51hdRkQEUoKqTtUVdITQZUhKJC2h51hdRkQEUoKqTtUVdITQZUhKJC2h51hdRkQEUoKqTtUVdITQZUhKJC2h51hdRkQEUoKqTtUVdITc2A7LeYJ/0SNuWEtDGKCml71BVSUzGgxU/Bdx7Qk5/xHrp/D0WFtD3qCqk5fkCrX/JuPKD7v+F9enQb0Oo39n/OHxpf/yR25wE9u2lGowHdrTr7VkPUFVJz7IBuvKf7Duhq6+tHlwE9HvpPdLunm7eh6DsgOyPMfh+/oKiQ7vD85lQz77VIXSE1Bw7o/Eb58O3TZUltB2RzP+LWExQV0s1Wh0ltZflenXjLMOoKqTlsQJc3yqcv/sdrOyB7Z8+9Z9sJRYV0q8VQFlfNfrUw8Q1AXSE1Bw3ocjr48WK8hwHZC/Dx8x9+mpjz6YaiQrrR4ppy0jP5GHWF1BwyoMtV3uli4j0M6MlHsOHaFBXSjbzkcbd4ctQVUnPAgC5z0Xv3HQzo6UewFjecWw9ocUZ7mzPv9AFdXonLW+QdDOhVN74ceYUoKqTbLFb+4eutrz1nn9eoK6Rm8oAuJ2n/k/Qf0L238jIfOQhRVEi3ecVh8uUxdUPUFVIzdUD2dC/erO/gCHQ5O6wPM/69y0B5igrpNq8b0NRzGXWF1Mwc0I3vne8/Bv+QlBPSQ/jZbf93dBQV0o1WV/p2Hb08Bc/7IpS6QmoyoKe6Dmh1OFycbad9GU1dITUZ0A+PPh43OoUtn+H1YWbO0FeoK6Rm5oDuan8NtJr+ZdzLi+iRr14oKqRbPVjzAU/yC+oKqcmATl7zMX7obU1RId1s2fPyZC6vr9/pNdBd72BAz8+/Tc65r7lOGKzqqCukJgO6ePDajL8kFBXSPZ59mJ93+HlBXSE1JQM6AOWEdIKrl2fS60FRId3p/obmXf2cUFdITQZUhKJCOmJ5gf+z/pvoo1BOSBujqJC2R10hNRlQEYoKaXvUFVKTARWhqJC2R10hNRlQEYoKaXvUFVKTARWhqJC2R10hNRlQEYoKaXvUFVKTARWhqJC2R10hNRlQEYoKaXvUFVKTARWhqJC2R10hNRlQEYoKaXvUFVKTARWhqJC2R10hNRlQEYoKaXvUFVKTARWhqJC2R10hNRlQEYoKaXvUFVLzfEARZ0zEZECxARMxGVBswERMBhQbMBGTAcUGTMQ8HxBpM5QT0sYoKqTtUVdITQZUhKJC2h51hdRkQEUoKqTtUVdITQZUhKJC2h51hdRkQEUoKqTtUVdITQZUhKJC2h51hdRkQEUoKqTtUVdITQZUhKJC2h51hdRkQEUoKqTtUVdITQZUhKJC2h51hdRkQEUoKqTtUVdITQZUhKJC2h51hdRkQEUoKqTtUVdITQZUhKJC2h51hdRkQEUoKqTtUVdIzREDeu0tHUZ+fpByQtoYRYW0PeoKqcmAltY/PNj6Z2ULUFdITQZ09qh2p5/5LUVdITVvOKChXxWlnJAOWN0I5+ox+huoFBXS9qgrpOaIAd03787IlBPS3RZnrstWFqsa+8Foigppe9QVUlM5ILvPw/Cvd1NOSHezZS/vqDLtFjgUFdL2qCukpm5A9m6ecDMiygnpbncPjX46zoDecEB33+I7UU5Id7NT2N0j0NjHMYoKaXvUFVJTMyB7Hzf9VOxHmtvXQL0u2qpQV0hNyYDmXTufUU5Ihzz68Dh+1KSokLZHXSE1BQOadhnhKCekw27e8WnK6CkqpO1RV0jN8QO6e3kxhHJCOuL6O2h/DJ95KSqk7VFXSM3hA7LLiJn3I6KckO63uJXk+ZCzOCDlIvotBjTtU8wK5YR0Lx/K6jA56zqaokLaHnWF1Bw8ILt8Hv/y0FFOSPd6cJh8sK1NKCqk7VFXSM2xA/Jnf9bnrxPKCelOtz/DY9J7gKJC2h51hdQcOqCHL8wYygnpTosP8KuhLy6DMqArhw5o2l8kXaOckO7lFzqrleQayJGaIwfkH4ynXkG/oJyQ7ubnKbvWWRx+8ndhGdADi4PQrcfgl1gUFdL2qCuk5sgBHfYR7AXlhHTMgw2NfwVKUSFtj7pCao4c0JEoJ6QTXP2N2KRjJ0WFtD3qCqnJgIpQVEjbo66QmgyoCEWFtD3qCqnJgIpQVEjbo66QmgyoCEWFtD3qCqnJgIpQVEjbo66QmgyoCEWFtD3qCqnJgIpQVEjbo66QmgyoCEWFtD3qCqnJgIpQVEjbo66QmgyoCEWFtD3qCqnJgIpQVEjbo66QmgyoCEWFtD3qCqnJgIpQVEjbo66QmgyoCEWFtD3qCqnJgIpQVEjbo66QmucDijhjIiYDig2YiMmAYgMmYjKg2ICJmAwoNmAi5kYU8XoZUAzJgGJIBhRDMqAYkgHFkAwoBnz//l9m/5Zs8CTl+gAAAABJRU5ErkJggg==)"
      ]
    },
    {
      "cell_type": "markdown",
      "metadata": {
        "id": "oIhdT7XL_AAs"
      },
      "source": [
        "**Exercise 3.1**\n",
        "\n",
        "The following code section is a solution to the 8-puzzle problem in Python with the function \"**Breadth First Search**\" to be completed (**def bfs(start, goal)**). As you noticed, the function does not take a pre-created graph as parameter (like in Excerice 2), because in the current problem we'll need to create the graph/tree while searching. Therefore, the BFS function will include the creation of the graph's nodes. The following are general steps to help you write the BFS function:\n",
        "\n",
        "\n",
        "1. The function will take 2 lists as parameters: *start* and *goal* (with goal = [1,2,3,4,5,6,7,8,0]). Check if we already have the *start* list equals to *goal* list.\n",
        "2. You'll need to create a node for the *start* and add it to a new list which will include all the nodes of one level (list called *to_be_expanded*)\n",
        "3. We considered the variable *total_moves* the maximum number of moves to avoid infinite loops, therefore, you need to have a loop that goes from zero till the *total_moves* in your function.\n",
        "4. For each node in the list *to_be_expanded*, if it was not already visited (in list *visited_states*), you need to call the method *expand_node* and then compare each of the returned nodes to the *goal*. If the node is equal to the goal return it, else add it to the *temp_expanded* list (its content will replace later the content of *to_be_expanded*). Don't forget to add the visited node to the list *visited_states*.\n",
        "5. In the *total_moves* loop, make sure to replace the content of *to_be_expanded* by *temp_expanded*, so you can look up the goal in the  lower level previously saved in *temp_expanded*."
      ]
    },
    {
      "cell_type": "code",
      "execution_count": null,
      "metadata": {
        "id": "kgZ48d25-Tv0"
      },
      "outputs": [],
      "source": [
        "################################################### Global Variables #####################################################\n",
        "import sys\n",
        "visited_states = []      #List that will contain the states already visited\n",
        "goal_state = [1, 2, 3, 4, 5, 6, 7, 8, 0]\n",
        "total_moves = 70\n",
        "expanded = 0\n",
        "count =0\n",
        "\n",
        "###########################################################################################################################\n",
        "################################################### Class Declaration #####################################################\n",
        "class Node:\n",
        "    def __init__(self, state, parent, operator, depth, cost):\n",
        "        self.state = state\n",
        "        self.parent = parent\n",
        "        self.operator = operator\n",
        "        self.depth = depth\n",
        "        self.cost = cost\n",
        "\n",
        "def create_node(state, parent, operator, depth, cost):\n",
        "    return Node(state, parent, operator, depth, cost)\n",
        "\n",
        "#####################################################################################################################\n",
        "######################################## Implementation of moves functions ###############################################\n",
        "\n",
        "def move_left(state):\n",
        "    swap = state.copy()\n",
        "    idx = swap.index(0)  #getting the index of Blank space\n",
        "    if (idx == 0 or idx == 3 or idx == 6):\n",
        "        return swap\n",
        "    else:\n",
        "        swap[idx-1] , swap[idx] = swap[idx] , swap[idx-1]  #swapping value with the left entry\n",
        "        return swap\n",
        "\n",
        "def move_right(state):\n",
        "    swap = state.copy()\n",
        "    idx = swap.index(0)  #getting the index of Blank space\n",
        "    if (idx == 2 or idx == 5 or idx == 8):\n",
        "        return swap\n",
        "    else:\n",
        "        swap[idx+1] , swap[idx] = swap[idx] , swap[idx+1]  #swapping value with the right entry\n",
        "        return swap\n",
        "\n",
        "\n",
        "def move_up(state):\n",
        "    swap = state.copy()\n",
        "    idx = swap.index(0)  #getting the index of Blank space\n",
        "    if (idx == 0 or idx == 1 or idx == 2):\n",
        "        return swap\n",
        "    else:\n",
        "        swap[idx-3] , swap[idx] = swap[idx] , swap[idx-3]  #swapping value with the entry above\n",
        "        return swap\n",
        "\n",
        "\n",
        "def move_down(state):\n",
        "    swap = state.copy()\n",
        "    idx = swap.index(0)  #getting the index of Blank space\n",
        "    if (idx == 6 or idx == 7 or idx ==8):\n",
        "        return swap\n",
        "    else:\n",
        "        swap[idx+3] , swap[idx] = swap[idx] , swap[idx+3]  #swapping value with the entry below\n",
        "        return swap\n",
        "\n",
        "###########################################################################################################################\n",
        "######################################## Implementation of expanded_node done #############################################\n",
        "def expand_node(node):\n",
        "    expanded_nodes = []\n",
        "\n",
        "    temp_state = move_down(node.state)\n",
        "    temp_node = create_node(temp_state,node,\"down\",node.depth+1,node.cost+1)\n",
        "    expanded_nodes.append(temp_node)\n",
        "\n",
        "    temp_state1 = move_up(node.state)\n",
        "    temp_node1 = create_node(temp_state1,node,\"up\",node.depth+1,node.cost+1)\n",
        "    expanded_nodes.append(temp_node1)\n",
        "\n",
        "    temp_state2 = move_left(node.state)\n",
        "    temp_node2 = create_node(temp_state2,node,\"left\",node.depth+1,node.cost+1)\n",
        "    expanded_nodes.append(temp_node2)\n",
        "\n",
        "    temp_state3 = move_right(node.state)\n",
        "    temp_node3 = create_node(temp_state3,node,\"right\",node.depth+1,node.cost+1)\n",
        "    expanded_nodes.append(temp_node3)\n",
        "\n",
        "    return expanded_nodes\n",
        "\n",
        "#####################################################################################################################\n",
        "######################################## Implementation of BFS  #################################################\n",
        "\n",
        "\n",
        "def bfs(start, goal):\n",
        "    #  if we already have the start list equals to goal list, return None\n",
        "    if (start == goal):\n",
        "        return [None]\n",
        "    else:\n",
        "        # array of all nodes in one level/depth\n",
        "        to_be_expanded = []\n",
        "\n",
        "        #Create starting node and store it in current_node\n",
        "        # ***************************************************\n",
        "        # INSERT YOUR CODE HERE\n",
        "        # ***************************************************\n",
        "\n",
        "        # Adding first node (current_node) to the expanding array\n",
        "        # ***************************************************\n",
        "        # INSERT YOUR CODE HERE\n",
        "        # ***************************************************\n",
        "\n",
        "        # Loop the number of moves allowed (total_moves)\n",
        "        for i in range(total_moves):\n",
        "            temp_expanded = []\n",
        "\n",
        "            #Loop of states yet to be expanded\n",
        "            for j in range(len(to_be_expanded) ) :\n",
        "\n",
        "                # Do not expand if node has already been visited\n",
        "                if (to_be_expanded[j] not in visited_states) :\n",
        "\n",
        "                    # Expand and put the result in a list (node_array)\n",
        "                    node_array = []\n",
        "                    # ***************************************************\n",
        "                    # INSERT YOUR CODE HERE\n",
        "                    # ***************************************************\n",
        "\n",
        "                    # checking the 4 nodes if one of them is the goal (the expansion of the node = surrounding nodes) and adding them to the temp array\n",
        "                    for x in range(4):\n",
        "                        if (node_array[x].state == goal):\n",
        "                            # ***************************************************\n",
        "                            # INSERT YOUR CODE HERE\n",
        "                            # ***************************************************\n",
        "                            print()\n",
        "\n",
        "                        else :\n",
        "                            # If not the goal, you add the node toa temporary list to be expanded later\n",
        "                            # ***************************************************\n",
        "                            # INSERT YOUR CODE HERE\n",
        "                            # ***************************************************\n",
        "                            print()\n",
        "\n",
        "                visited_states.append(to_be_expanded[j])\n",
        "\n",
        "            # clearing the previous (already expanded) nodes\n",
        "            to_be_expanded.clear()\n",
        "            # copying over the newly generated nodes\n",
        "            to_be_expanded = temp_expanded.copy()\n",
        "            # clearing the temp array\n",
        "            temp_expanded.clear()\n",
        "\n",
        "\n",
        "    return None\n",
        "\n",
        "######################################################################################################################\n",
        "######################################## Implementation of Main  #################################################\n",
        "def main():\n",
        "\n",
        "    method = 'bfs'\n",
        "    length = 0\n",
        "    x = 0\n",
        "    x = x + 1\n",
        "    board = \"1,2,3,4,0,5,7,8,6\" # initial state\n",
        "    board_split = board.split(',')\n",
        "    starting_state = [int(i) for i in board_split]\n",
        "    print(\"_________    Printing state _________\")\n",
        "    print(starting_state)\n",
        "\n",
        "    if (len(starting_state) == 9):\n",
        "        result = bfs(starting_state, goal_state)\n",
        "        if result == None:\n",
        "            print(\"No solution found\")\n",
        "        elif result == [None]:\n",
        "            print  (\"Start node was the goal!\")\n",
        "        else:\n",
        "            print()\n",
        "            print (\"Total number of moves needed = \", result.cost)\n",
        "            path = [];\n",
        "            path.append(result.state)\n",
        "            current = result\n",
        "\n",
        "            flag = True\n",
        "\n",
        "            while (flag) :\n",
        "                parent = current.parent\n",
        "                prev_state = parent.state\n",
        "                path.append(prev_state)\n",
        "                current = parent\n",
        "\n",
        "                if (prev_state == starting_state) :\n",
        "                    flag = False\n",
        "\n",
        "            path.reverse()\n",
        "            print()\n",
        "            print(\"Step-wise Sequence of states from start to goal is \")\n",
        "\n",
        "            for state in path :\n",
        "                print(state[0] , \" | \" , state[1], \" | \", state[2])\n",
        "                print(state[3] , \" | \" , state[4], \" | \", state[5])\n",
        "                print(state[6] , \" | \" , state[7], \" | \", state[8])\n",
        "                print()\n",
        "    else:\n",
        "        print(\"Invalid input\")\n",
        "\n",
        "if __name__ == \"__main__\":\n",
        "    main()\n",
        "\n",
        "######################################################################################################################\n",
        "################################################### THE END ##########################################################\n",
        "######################################################################################################################\n"
      ]
    }
  ],
  "metadata": {
    "colab": {
      "provenance": []
    },
    "kernelspec": {
      "display_name": "Python 3",
      "name": "python3"
    },
    "language_info": {
      "codemirror_mode": {
        "name": "ipython",
        "version": 3
      },
      "file_extension": ".py",
      "mimetype": "text/x-python",
      "name": "python",
      "nbconvert_exporter": "python",
      "pygments_lexer": "ipython3",
      "version": "3.11.9"
    }
  },
  "nbformat": 4,
  "nbformat_minor": 0
}
