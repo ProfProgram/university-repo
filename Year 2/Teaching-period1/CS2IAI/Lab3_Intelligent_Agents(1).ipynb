{
  "nbformat": 4,
  "nbformat_minor": 0,
  "metadata": {
    "colab": {
      "provenance": [],
      "collapsed_sections": []
    },
    "kernelspec": {
      "name": "python3",
      "display_name": "Python 3"
    },
    "language_info": {
      "name": "python"
    }
  },
  "cells": [
    {
      "cell_type": "markdown",
      "source": [
        "## **CS2IAI Introduction to Artificial Intelligence**\n",
        "\n",
        "Prepaped by Dr. Farzaneh Farhadi\n",
        "\n",
        "**Welcome! In this practical session we will learn about intelligent agents.**\n",
        "\n",
        "Read through the notebook to see how python commands are being implemeted. Then answer the exercise questions. Your answers should be added in code cells."
      ],
      "metadata": {
        "id": "l-Fjzq5mWv7Y"
      }
    },
    {
      "cell_type": "markdown",
      "source": [
        "**Intelligent Agents**\n",
        "\n",
        "In this tutorial, we will learn how to develop an intelligent agent for **vacuum cleaner** problem. "
      ],
      "metadata": {
        "id": "3Rj12f6KaBIW"
      }
    },
    {
      "cell_type": "markdown",
      "source": [
        "## **Creating Environment:**\n",
        "\n",
        "Our environment is a square grid, where each cell may or may not be dirty. The size of the grid (*env_size*), the initial states of the cells (*init_status*), and the initial location of the vacuum cleaner (*init_loc*) can be determined by the user. The init_status is matrix of size (*env_size × env_size*), where the (i,j)-th element shows the dirty state of the cell in the i-th row and j-th column. Each element of init_status can take two values 0 and 1, where 0 means clean and 1 means dirty.\n",
        "\n",
        "The figure below shows how we number rows and columns when 𝑛 = 3. We follow the same pattern for 𝑛 ≠ 3. That is, We number the rows from top to bottom and columns from left to right starting with 0.\n",
        "\n",
        "![Picture1.png](data:image/png;base64,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)"
      ],
      "metadata": {
        "id": "iW0WYYi-akDw"
      }
    },
    {
      "cell_type": "markdown",
      "source": [
        "To create this environment, we need to take some inputs from the user. To this end, we use the Python built-in **input()** function. This function takes the input from the user and converts it into a string. The type of the returned object always will be <type ‘str’>. So for taking integer input we have to type cast those inputs into integers by using Python built-in **int()** function.\n",
        "\n",
        "Run the following example to see how these two functions work. You can give any integer number (e.g., 100) as the input."
      ],
      "metadata": {
        "id": "Z0PI-589jDrd"
      }
    },
    {
      "cell_type": "code",
      "execution_count": null,
      "metadata": {
        "id": "WWEZpLkkWoeq"
      },
      "outputs": [],
      "source": [
        "# take input from user\n",
        "input_a = input()\n",
        " \n",
        "# print data type\n",
        "print(type(input_a))\n",
        " \n",
        "# type cast into integer\n",
        "input_a = int(input_a)\n",
        " \n",
        "# print data type\n",
        "print(type(input_a))"
      ]
    },
    {
      "cell_type": "markdown",
      "source": [
        "The **input()** function has an optional parameter, commonly known as **prompt**, which is a string that will be printed on the screen whenever the function is called. The **prompt** tells the user what information they are expected to enter. When your program reaches an input command it will display the **prompt** and wait for the user to type some input. As soon as the user hits enter, their text will be stored in the variable that you assigned the input result to.\n",
        "\n",
        "**Example:**"
      ],
      "metadata": {
        "id": "PeWRgvl6-BTD"
      }
    },
    {
      "cell_type": "code",
      "source": [
        "name = input('Enter your name: ')\n",
        "print(name)\n",
        "\n",
        "age = int(input('Enter your age: '))\n",
        "print(age)"
      ],
      "metadata": {
        "id": "Jp4hCbxr_hnJ"
      },
      "execution_count": null,
      "outputs": []
    },
    {
      "cell_type": "markdown",
      "source": [
        "Note that in the above example, we used the type conversion command **int()** to interpret the user's age as an integer quantity."
      ],
      "metadata": {
        "id": "eaIw82Z-_2Vt"
      }
    },
    {
      "cell_type": "markdown",
      "source": [
        "# Exercise 1\n",
        "\n",
        "Using the above-introduced commands, complete the following function called **vacuum_world()** that takes the grid size (*env_size*), the initial dirty states of the cells (*init_status*), and the initial location of the vacuum cleaner (*init_loc*) from the user and assign them to variables with the same names. The initial location is an array of size (1,2), where the first and second components represent the row and column indicators.\n",
        "\n",
        "Give 3 as the grid size and (0,0) as the starting location, for simplicity.\n"
      ],
      "metadata": {
        "id": "OVJuIGWRATsm"
      }
    },
    {
      "cell_type": "code",
      "source": [
        "import numpy as np\n",
        "def vacuum_world():\n",
        "    # Taking the grid size from the user and assigning it to an integer variable called env_size\n",
        "    # ***************************************************\n",
        "    # INSERT YOUR CODE HERE\n",
        "    # ***************************************************\n",
        "    \n",
        "    # Taking the initial dirty statuses of the cells one by one, where 0 indicates Clean and 1 indicates Dirty\n",
        "    # We consider a cell to be clean if its corresponding input is invalid (i.e., anything except 0 and 1)\n",
        "    init_status=np.zeros((env_size,env_size))\n",
        "    for i in range(0,env_size):\n",
        "      for j in range(0,env_size):\n",
        "        # ***************************************************\n",
        "        # INSERT YOUR CODE HERE\n",
        "        # ***************************************************\n",
        "    \n",
        "    # Taking the initial location of vacuum cleaner\n",
        "    init_loc_row = int(input('Vacuum cleaner location: Row'))\n",
        "    init_loc_col = int(input('Vacuum cleaner location: Column'))\n",
        "    init_loc=np.array([init_loc_row,init_loc_col])\n",
        "    return [env_size,init_status,init_loc]\n",
        "[env_size,init_status,init_loc]=vacuum_world()\n",
        "\n",
        "print(env_size)\n",
        "print(init_status)\n",
        "print(init_loc)"
      ],
      "metadata": {
        "id": "FdvDfx8CPx3j"
      },
      "execution_count": null,
      "outputs": []
    },
    {
      "cell_type": "markdown",
      "source": [
        "## **Creating Agent**\n",
        "\n",
        "Basically, the agents may perceive the environment, and in response take certain actions.\n",
        "\n",
        "**Actions:** The set of possible actions that an agent can take is as follows: {suck, up, down, right, left, nothing}, where:\n",
        "- suck means the agent removes the dirt from its current square,\n",
        "- up, down, right, left mean the agent moves in the direction of the action, and\n",
        "- nothing means the agent remains in the current cell and does nothing.\n",
        "\n",
        "\n",
        "**Percept:** A percept for the vacuum-agent is a list of four elements:\n",
        "1. loc: a list of size 2, i.e., (locr locc), that contains the row and colum indices of the agent’s location,\n",
        "2. status: 1 if the current cell contains dirt, else 0,\n",
        "3. last-action: the action agent took at previous step,\n",
        "4. bump: 1 if the agent has bumped into a wall, else 0.\n",
        "\n",
        "Note that this is the only data that the agent has for making its decisions.\n",
        "\n",
        "**Agents:** In this setting, we want to create three following agents:\n",
        "\n",
        "1. random-vacuum_agent: This agent ignores the percept it gets and chooses actions completely at random.\n",
        "2. reactive-vacuum-agent1: This agent uses the information from the percept as follows:\n",
        "    - It removes the dirt if exists,\n",
        "    - It takes an action different from its previous action if it bumped into a wall, and\n",
        "    - It moves in a uniformly random direction, otherwise.\n",
        "3. reactive-vacuum-agent2: This agent uses the information from the percept as follows:\n",
        "    - It removes the dirt, if exists,\n",
        "    - It moves in an opposite direction, if it bumped into a wall, and\n",
        "    - It takes a random action with the following probabilities, otherwise. up: 20%, down: 40%, right: 20%, left: 20%, nothing: 0%.\n"
      ],
      "metadata": {
        "id": "hGE0uT0_T9Q0"
      }
    },
    {
      "cell_type": "markdown",
      "source": [
        "To this end, we first define the set of feasible actions:"
      ],
      "metadata": {
        "id": "dLfDSVV_UqZY"
      }
    },
    {
      "cell_type": "code",
      "source": [
        "actions= ['suck','up', 'down', 'right', 'left', 'nothing']"
      ],
      "metadata": {
        "id": "AUsKwwEKYJlq"
      },
      "execution_count": null,
      "outputs": []
    },
    {
      "cell_type": "markdown",
      "source": [
        "# Exercise 2\n",
        "\n",
        "We also define a **dictionary** called **actions_move** that maps each action to its corresponding displacement array. For example, action **up** should be mapped to array [-1,0], because by doing this action, the vacuum cleaner's column index decreases by one and its row index remains constant."
      ],
      "metadata": {
        "id": "926lHBqnYVEj"
      }
    },
    {
      "cell_type": "code",
      "source": [
        "# ***************************************************\n",
        "# INSERT YOUR CODE HERE\n",
        "# ***************************************************"
      ],
      "metadata": {
        "id": "HNgAjgnjcy_P"
      },
      "execution_count": null,
      "outputs": []
    },
    {
      "cell_type": "markdown",
      "source": [
        "Now, we want to create the random-vacuum-agent. To this end, we use **choice()** function from **random** module. \n",
        "The random module of python provides us several methods to generate random numbers. It also provides some methods which are used in statistics.\n",
        "\n",
        "- random() : This function generates a random float value between 0 and 1.\n",
        "\n",
        "Example:"
      ],
      "metadata": {
        "id": "yKt_hNMAdQFM"
      }
    },
    {
      "cell_type": "code",
      "source": [
        "import random\n",
        "number=random.random()\n",
        "print(number) #prints a float between 0 and 1"
      ],
      "metadata": {
        "id": "IIbG8IUQe4hM"
      },
      "execution_count": null,
      "outputs": []
    },
    {
      "cell_type": "markdown",
      "source": [
        "- randint() : This function takes two integers as arguments and generates a random integer between them.\n",
        "\n",
        "Example:"
      ],
      "metadata": {
        "id": "068AMp3VfCVn"
      }
    },
    {
      "cell_type": "code",
      "source": [
        "number=random.randint(1,10) #both 1 and 10 are inclusive,\n",
        "print(number)"
      ],
      "metadata": {
        "id": "RhCSOXJKfEXh"
      },
      "execution_count": null,
      "outputs": []
    },
    {
      "cell_type": "markdown",
      "source": [
        "- randrange() : It returns a random integer from a given range. It takes three parameters, start, stop, and step. The start is compulsory while stop and step are optional.\n",
        "\n",
        "Example:"
      ],
      "metadata": {
        "id": "vnSDb2jsfNvR"
      }
    },
    {
      "cell_type": "code",
      "source": [
        "number=random.randrange(2,10,2) # Generates a random integer between 1 and 10, 1 inclusive and 10 exclusive, step value is 2.\n",
        "print(number)"
      ],
      "metadata": {
        "id": "0BNj5K5ziDju"
      },
      "execution_count": null,
      "outputs": []
    },
    {
      "cell_type": "markdown",
      "source": [
        "- choice() : It takes a non-empty sequence as argument and selects a random value from that sequence. If you pass an empty sequence as argument, then it gives IndexError.\n",
        "\n",
        "Example:"
      ],
      "metadata": {
        "id": "6_rUntqwiEm5"
      }
    },
    {
      "cell_type": "code",
      "source": [
        "alist=[10,20,30,40,50]\n",
        "number=random.choice(alist)\n",
        "print(number) #prints a randomly picked value from alist"
      ],
      "metadata": {
        "id": "n--o2G0WiZxV"
      },
      "execution_count": null,
      "outputs": []
    },
    {
      "cell_type": "markdown",
      "source": [
        "- choices() : This method chooses multiple random items from a list or sequence. You can weigh the possibility of each result with the weights parameter. Syntax: random.choices(sequence, weights=None, k=1)\n",
        "\n",
        "Example:"
      ],
      "metadata": {
        "id": "SBvYm7T-iaOd"
      }
    },
    {
      "cell_type": "code",
      "source": [
        "alist=[10,20,30,40]\n",
        "number=random.choices(alist, weights=(0,30,60,10), k=20) #Return a 20 sized list of elements chosen from the alist with replacement. Selections are made according to the relative weights.\n",
        "print(number) "
      ],
      "metadata": {
        "id": "WoFyJVfTim_c"
      },
      "execution_count": null,
      "outputs": []
    },
    {
      "cell_type": "markdown",
      "source": [
        "# Exercise 3\n",
        "\n",
        "Exercise 3.1: \n",
        "\n",
        "Use the **random.choice()** function to create the random-vacuum-agent."
      ],
      "metadata": {
        "id": "z74tHkoWi6O9"
      }
    },
    {
      "cell_type": "code",
      "source": [
        "def random_vacuum_agent(loc,status,last_action,bump):\n",
        "  # ***************************************************\n",
        "  # INSERT YOUR CODE HERE\n",
        "  # ***************************************************"
      ],
      "metadata": {
        "id": "p-FFeoOrjGmV"
      },
      "execution_count": null,
      "outputs": []
    },
    {
      "cell_type": "markdown",
      "source": [
        "Evaluate the following expression several times to make sure that your code generates random actions. Notice that in this expression, we pass a copy of the global variable init_status to the function. This is to make sure that the value of this global variable does not change while running the command."
      ],
      "metadata": {
        "id": "Mcgxt7S8jzrv"
      }
    },
    {
      "cell_type": "code",
      "source": [
        "random_vacuum_agent([0,0],init_status.copy(),0,0)"
      ],
      "metadata": {
        "id": "NuE_VxkLjy7l"
      },
      "execution_count": null,
      "outputs": []
    },
    {
      "cell_type": "markdown",
      "source": [
        "Exercise 3.2:\n",
        "\n",
        "Write a function called **reactive_vacuum_agent1(loc,status,last_action,bump)** that gets the percept and chooses an action based on the strategy of reactive-vacuum-agent1."
      ],
      "metadata": {
        "id": "gnsBCmVajhss"
      }
    },
    {
      "cell_type": "code",
      "source": [
        "def reactive_vacuum_agent1(loc,status,last_action,bump):\n",
        "  if status[loc[0]][loc[1]]==1:\n",
        "    # ***************************************************\n",
        "    # INSERT YOUR CODE HERE\n",
        "    # ***************************************************\n",
        "  elif bump==1:\n",
        "    # ***************************************************\n",
        "    # INSERT YOUR CODE HERE\n",
        "    # ***************************************************\n",
        "  else:\n",
        "    # ***************************************************\n",
        "    # INSERT YOUR CODE HERE\n",
        "    # ***************************************************"
      ],
      "metadata": {
        "id": "nozwmYDAknrn"
      },
      "execution_count": null,
      "outputs": []
    },
    {
      "cell_type": "markdown",
      "source": [
        "Test how this function works by giving it different inputs."
      ],
      "metadata": {
        "id": "DQYiXVkLk9jH"
      }
    },
    {
      "cell_type": "code",
      "source": [
        "# ***************************************************\n",
        "# INSERT YOUR CODE HERE\n",
        "# ***************************************************"
      ],
      "metadata": {
        "id": "TEvxrrAlk-FN"
      },
      "execution_count": null,
      "outputs": []
    },
    {
      "cell_type": "markdown",
      "source": [
        "Exercise 3.3:\n",
        "\n",
        "Write a function called **reactive_vacuum_agent2(loc,status,last_action,bump)** that gets the percept and chooses an action based on the strategy of reactive-vacuum-agent2. \n",
        "\n",
        "Hints:\n",
        "1. Define a dictionary that maps each action with its opposite action.\n",
        "2. Think about which of the random methods introduced above is most appropriate to do this task."
      ],
      "metadata": {
        "id": "uw6aRbPJlUrU"
      }
    },
    {
      "cell_type": "code",
      "source": [
        "def reactive_vacuum_agent2(loc,status,last_action,bump):\n",
        "  if status[loc[0]][loc[1]]==1:\n",
        "    return 'suck'\n",
        "  elif bump==1:\n",
        "    # ***************************************************\n",
        "    # INSERT YOUR CODE HERE\n",
        "    # ***************************************************\n",
        "  else:\n",
        "    # ***************************************************\n",
        "    # INSERT YOUR CODE HERE\n",
        "    # ***************************************************"
      ],
      "metadata": {
        "id": "hDAQF_-Ppkt7"
      },
      "execution_count": null,
      "outputs": []
    },
    {
      "cell_type": "markdown",
      "source": [
        "## **Further Exercises:**"
      ],
      "metadata": {
        "id": "K7DAzkkX9MTq"
      }
    },
    {
      "cell_type": "markdown",
      "source": [
        "## **Simulator**\n",
        "\n",
        "We want to write a code to see how each of these agents works in our environment. To this end, we need several functions:\n",
        "\n",
        "1. **update_location(loc,action):** This function gets the agent’s current location and chosen action, and returns the agent’s next position in the grid.\n",
        "2. **update_status(status,loc,action):** This function updates the status of the grid based on the agent’s current location and chosen action.\n",
        "3. **simulate_vacuum_agent(status,loc,agent_program,max_step):** this function uses the above-defined functions to simulate the behaviour of an agent in the environment.\n"
      ],
      "metadata": {
        "id": "gZ_CslUIrNjK"
      }
    },
    {
      "cell_type": "markdown",
      "source": [
        "# Exercise 4\n",
        "\n",
        "The codes of these functions are available below. However, they may have some missing parts. Fill in the missing parts to make the codes do their certain tasks."
      ],
      "metadata": {
        "id": "xke2qMRQ1Jx3"
      }
    },
    {
      "cell_type": "code",
      "source": [
        "def update_location(loc,action):\n",
        "  # Adding the displacement array to the current location and storing the result in an array called next_loc\n",
        "  # ***************************************************\n",
        "  # INSERT YOUR CODE HERE\n",
        "  # ***************************************************\n",
        "  bump=0\n",
        "  # Checking whether next_loc is within or outside of the grid. If it is outside, it means that the agent has bumped the wall, and hence the next_loc coordinates need to be modified.\n",
        "  for i in range(0,2):\n",
        "    if next_loc[i] <0:\n",
        "      next_loc[i]=0\n",
        "      bump=1\n",
        "    if next_loc[i] >env_size-1:\n",
        "      next_loc[i]=env_size-1\n",
        "      bump=1\n",
        "  return [next_loc,bump]"
      ],
      "metadata": {
        "id": "4K1P0vn10Nc5"
      },
      "execution_count": null,
      "outputs": []
    },
    {
      "cell_type": "markdown",
      "source": [
        "Note that you cannot add arrays by using the + operator, as the + operator puts the contents of two or more arrays in a single array."
      ],
      "metadata": {
        "id": "NqeM85-03p4Q"
      }
    },
    {
      "cell_type": "code",
      "source": [
        "def update_status(status,loc,action):\n",
        "  if status[loc[0]][loc[1]]==1 and action=='suck':\n",
        "    status[loc[0]][loc[1]]=0\n",
        "  return status"
      ],
      "metadata": {
        "id": "ljzzG0mF3h8K"
      },
      "execution_count": null,
      "outputs": []
    },
    {
      "cell_type": "markdown",
      "source": [
        "In Python, functions can take multiple arguments and these arguments can be objects, variables(of same or different data types) and even functions. This means that we can pass functions as arguments to other functions. Functions that can accept other functions as arguments are called higher-order functions.\n",
        "\n",
        "In the example below, a function **fun** is created which takes a function **fun1** as an argument."
      ],
      "metadata": {
        "id": "FE_DeSK76qaw"
      }
    },
    {
      "cell_type": "code",
      "source": [
        "def fun(fun1, thing):\n",
        "  return fun1(thing)\n",
        "\n",
        "result1=fun(random.choice,[10, 5, 9, 1])\n",
        "print(result1)\n",
        "result2=fun(np.sort,[10, 5, 9, 1])\n",
        "print(result2)"
      ],
      "metadata": {
        "id": "t3iukO53CwiB"
      },
      "execution_count": null,
      "outputs": []
    },
    {
      "cell_type": "markdown",
      "source": [
        "We would like to use this technique to write the **simulate_vacuum_agent**. This function takes the **agent_program** as an argument. The **agent_program** could be any function that determines the agent's strategy. So, in our scenario, it has three feasible values: **random_vacuum_agent**, **reactive_vacuum_agent1**, **reactive_vacuum_agent2**. By passing any of these inputs, the **simulate_vacuum_agent** function simulates the behavior of its that agent in our vacuum cleaner environment."
      ],
      "metadata": {
        "id": "Ce3T5UMlDKhR"
      }
    },
    {
      "cell_type": "code",
      "source": [
        "def simulate_vacuum_agent(status,loc,agent_program,max_step):\n",
        "  last_action='nothing'\n",
        "  bump=0\n",
        "  iter=0\n",
        "  # While any dirt remained and we did not reach the maximum number of iterations\n",
        "  while np.count_nonzero(status) > 0 and iter <max_step:\n",
        "    # Defining action as the action suggested by the agent_program\n",
        "    action= # INSERT YOUR CODE HERE\n",
        "    [loc,bump]=update_location(loc,action)\n",
        "    status=update_status(status,loc,action)\n",
        "    iter+=1\n",
        "    last_action=action\n",
        "  return [loc,status,iter]"
      ],
      "metadata": {
        "id": "t6RWjxXY4I1d"
      },
      "execution_count": null,
      "outputs": []
    },
    {
      "cell_type": "markdown",
      "source": [
        "## **Comparing different strategies**\n",
        "\n",
        "We now have all we need to simulate the behavior of different agents in the vacuum cleaner environment. \n",
        "\n",
        "To start, run the following command to see how many steps it takes for the random_agent to clear the grid."
      ],
      "metadata": {
        "id": "jNIBxAz2rUI-"
      }
    },
    {
      "cell_type": "code",
      "source": [
        "_,_,num_step=simulate_vacuum_agent(init_status.copy(),init_loc.copy(),random_vacuum_agent,1000)"
      ],
      "metadata": {
        "id": "m4D0iTypLH1v"
      },
      "execution_count": null,
      "outputs": []
    },
    {
      "cell_type": "markdown",
      "source": [
        "As the actions are random, everytime that you run the above command the result could be different. Therefore, to obtain a more reliable result, it is better to run the above command for 1000 times and then take the average. This can be done by running the following commands."
      ],
      "metadata": {
        "id": "VIJ4B025Knbh"
      }
    },
    {
      "cell_type": "code",
      "source": [
        "num_step=np.zeros(1000)\n",
        "for i in range(0,1000):\n",
        "  _,_,num_step[i]=simulate_vacuum_agent(init_status.copy(),init_loc.copy(),random_vacuum_agent,1000)\n",
        "np.average(num_step)"
      ],
      "metadata": {
        "id": "qCab_tQYKt_8"
      },
      "execution_count": null,
      "outputs": []
    },
    {
      "cell_type": "markdown",
      "source": [
        "# Exercise 5\n",
        "\n",
        "Run a similar speed test for reactive-vacuum-agent1 and reactive-vacuum-agent2. And compare their results with random_vacuum_agent. Which agent is fastest?"
      ],
      "metadata": {
        "id": "jI_OJNneOPe6"
      }
    },
    {
      "cell_type": "code",
      "source": [
        "# ***************************************************\n",
        "# INSERT YOUR CODE HERE\n",
        "# ***************************************************"
      ],
      "metadata": {
        "id": "LfX_o98kN6mp"
      },
      "execution_count": null,
      "outputs": []
    }
  ]
}